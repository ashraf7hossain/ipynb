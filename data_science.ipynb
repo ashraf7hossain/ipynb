{
 "cells": [
  {
   "cell_type": "code",
   "execution_count": null,
   "metadata": {},
   "outputs": [
    {
     "name": "stdout",
     "output_type": "stream",
     "text": [
      "      id  height  weight   total\n",
      "0      1   65.78  112.99  178.77\n",
      "1      2   71.52  136.49  208.01\n",
      "2      3   69.40  153.03  222.43\n",
      "3      4   68.22  142.34  210.56\n",
      "4      5   67.79  144.30  212.09\n",
      "..   ...     ...     ...     ...\n",
      "195  196   65.80  120.84  186.64\n",
      "196  197   66.11  115.78  181.89\n",
      "197  198   68.24  128.30  196.54\n",
      "198  199   68.02  127.47  195.49\n",
      "199  200   71.39  127.88  199.27\n",
      "\n",
      "[200 rows x 4 columns]\n"
     ]
    }
   ],
   "source": [
    "from pandas import * \n",
    "from pyodide import *\n",
    "from statistics import *\n",
    "\n",
    "dt = read_csv(open_url(\"https://raw.githubusercontent.com/ashraf7hossain/ipynb/main/data.csv\"))\n",
    "\n",
    "dt['total'] = dt['weight'] + dt['height']\n",
    "\n",
    "print(dt)"
   ]
  }
 ],
 "metadata": {
  "language_info": {
   "name": "python"
  },
  "orig_nbformat": 4
 },
 "nbformat": 4,
 "nbformat_minor": 2
}
