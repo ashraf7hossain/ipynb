{
 "cells": [
  {
   "cell_type": "code",
   "execution_count": null,
   "metadata": {},
   "outputs": [
    {
     "name": "stdout",
     "output_type": "stream",
     "text": [
      "685.9\n",
      "68.59\n"
     ]
    }
   ],
   "source": [
    "import pandas as pd\n",
    "import pyodide as pyd \n",
    "import statistics as st\n",
    "\n",
    "data = pd.read_csv(pyd.open_url(\"https://raw.githubusercontent.com/ashraf7hossain/ipynb/main/data.csv\"))\n",
    "\n",
    "first10 = data.head(10)\n",
    "\n",
    "\n",
    "print(sum(first10['height']))\n",
    "\n",
    "print(st.mean(first10['height']))\n",
    "\n"
   ]
  }
 ],
 "metadata": {
  "colab": {
   "name": "Untitled20.ipynb",
   "provenance": [],
   "version": "0.3.2"
  },
  "kernelspec": {
   "display_name": "Python 3",
   "language": "python",
   "name": "python3"
  },
  "language_info": {
   "codemirror_mode": {
    "name": "ipython",
    "version": 3
   },
   "file_extension": ".py",
   "mimetype": "text/x-python",
   "name": "python",
   "nbconvert_exporter": "python",
   "pygments_lexer": "ipython3",
   "version": "3.6.1"
  }
 },
 "nbformat": 4,
 "nbformat_minor": 1
}
