{
 "cells": [
  {
   "cell_type": "markdown",
   "metadata": {
    "colab_type": "text",
    "id": "fdQEgNQoV6ts"
   },
   "source": [
    "### Here we are gonna fit a linear regression model using sklearn library\n",
    "#### we are taking x and y as numpy array and we are about to fit the following line\n",
    "Y = $\\beta_0$ + $\\beta_1 X$  + $\\epsilon$"
   ]
  },
  {
   "cell_type": "code",
   "execution_count": 8,
   "metadata": {},
   "outputs": [
    {
     "data": {
      "text/plain": [
       "[<matplotlib.lines.Line2D at 0x4952e58>]"
      ]
     },
     "execution_count": 8,
     "metadata": {},
     "output_type": "execute_result"
    },
    {
     "data": {
      "image/png": "[encoded data removed]",
      "text/plain": [
       "<Figure size 432x288 with 1 Axes>"
      ]
     },
     "metadata": {
      "needs_background": "light"
     },
     "output_type": "display_data"
    }
   ],
   "source": [
    "from numpy import *\n",
    "from matplotlib import pyplot as plot\n",
    "from sklearn.linear_model import LinearRegression\n",
    "\n",
    "x = array([3 , 3 , 5 , 6 , 8 , 8 , 10 , 11 , 12 , 13]).reshape(-1,1)\n",
    "y = array([1.4 , 1.5 , 2.2 , 2.4 , 2.8, 3.2 , 3.2 , 3.3 , 3.9, 4.1])\n",
    "\n",
    "%matplotlib inline\n",
    "plot.scatter(x , y , color = \"red\" , marker= \"*\")\n",
    "\n",
    "model = LinearRegression().fit(x , y)\n",
    "\n",
    "plot.plot(x , model.predict(x) , color = \"darkblue\")\n"
   ]
  },
  {
   "cell_type": "markdown",
   "metadata": {},
   "source": []
  },
  {
   "cell_type": "markdown",
   "metadata": {},
   "source": []
  }
 ],
 "metadata": {
  "colab": {
   "name": "Untitled20.ipynb",
   "provenance": [],
   "version": "0.3.2"
  },
  "kernelspec": {
   "display_name": "Python 3",
   "language": "python",
   "name": "python3"
  },
  "language_info": {
   "codemirror_mode": {
    "name": "ipython",
    "version": 3
   },
   "file_extension": ".py",
   "mimetype": "text/x-python",
   "name": "python",
   "nbconvert_exporter": "python",
   "pygments_lexer": "ipython3",
   "version": "3.6.1"
  }
 },
 "nbformat": 4,
 "nbformat_minor": 1
}
