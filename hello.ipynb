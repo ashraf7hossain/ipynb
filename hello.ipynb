{
 "cells": [
  {
   "cell_type": "markdown",
   "metadata": {
    "colab_type": "text",
    "id": "fdQEgNQoV6ts"
   },
   "source": [
    "### Here we are gonna fit a linear regression model using sklearn library\n",
    "#### we are taking x and y as numpy array and we are about to fit the following line\n",
    "Y = $\\beta_0$ + $\\beta_1 X$  + $\\epsilon$"
   ]
  },
  {
   "cell_type": "code",
   "execution_count": null,
   "metadata": {},
   "outputs": [],
   "source": [
    "from numpy import *\n",
    "from matplotlib import pyplot as plt\n",
    "from sklearn.linear_model import LinearRegression\n",
    "import pandas as pd\n",
    "\n",
    "x = array([3 , 3 , 5 , 6 , 8 , 8 , 10 , 11 , 12 , 13]).reshape(-1,1)\n",
    "y = array([1.4 , 1.5 , 2.2 , 2.4 , 2.8, 3.2 , 3.2 , 3.3 , 3.9, 4.1])\n",
    "ax = plt.axes()\n",
    "ax.set_facecolor(\"lightgreen\")\n",
    "plt.scatter(x , y , color = \"red\" , marker= \"*\")\n",
    "\n",
    "model = LinearRegression().fit(x , y)\n",
    "plt.plot(x , model.predict(x) , color = \"darkblue\")\n",
    "\n",
    "plt.show()\n"
   ]
  },
  {
   "cell_type": "code",
   "execution_count": null,
   "metadata": {},
   "outputs": [],
   "source": [
    "import csv  \n",
    "\n",
    "header = ['name', 'area', 'country_code2', 'country_code3']\n",
    "data = ['Afghanistan', 652090, 'AF', 'AFG']\n",
    "\n",
    "with open('countries.csv', 'w', encoding='UTF8') as f:\n",
    "    writer = csv.writer(f)\n",
    "\n",
    "    # write the header\n",
    "    writer.writerow(header)\n",
    "\n",
    "    # write the data\n",
    "    writer.writerow(data)"
   ]
  }
 ],
 "metadata": {
  "colab": {
   "name": "Untitled20.ipynb",
   "provenance": [],
   "version": "0.3.2"
  },
  "kernelspec": {
   "display_name": "Python 3",
   "language": "python",
   "name": "python3"
  },
  "language_info": {
   "codemirror_mode": {
    "name": "ipython",
    "version": 3
   },
   "file_extension": ".py",
   "mimetype": "text/x-python",
   "name": "python",
   "nbconvert_exporter": "python",
   "pygments_lexer": "ipython3",
   "version": "3.6.1"
  }
 },
 "nbformat": 4,
 "nbformat_minor": 1
}
